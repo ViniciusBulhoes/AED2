{
  "nbformat": 4,
  "nbformat_minor": 0,
  "metadata": {
    "colab": {
      "provenance": []
    },
    "kernelspec": {
      "name": "python3",
      "display_name": "Python 3"
    },
    "language_info": {
      "name": "python"
    }
  },
  "cells": [
    {
      "cell_type": "code",
      "execution_count": null,
      "metadata": {
        "id": "Zj6chqnBU7Cp"
      },
      "outputs": [],
      "source": [
        "import pandas as pd\n",
        "import networkx as nx\n",
        "import matplotlib.pyplot as plt"
      ]
    },
    {
      "cell_type": "code",
      "source": [
        "sdg5 = pd.read_csv(\"/content/ods_5.csv\")\n",
        "sdg13 = pd.read_csv(\"/content/ods_13.csv\")\n",
        "sdg14 = pd.read_csv(\"/content/ods_14.csv\")\n",
        "sdg15 = pd.read_csv(\"/content/ods_15.csv\")"
      ],
      "metadata": {
        "id": "rNudQnqtU8y0"
      },
      "execution_count": null,
      "outputs": []
    },
    {
      "cell_type": "code",
      "source": [
        "sdg5_graph = nx.Graph()\n",
        "for index, row in sdg5.iterrows():\n",
        "  names = row[\"Authors\"].split(\";\")\n",
        "  ids = row[\"Author(s) ID\"].split(\";\")\n",
        "\n",
        "  for name, id in zip(names, ids):\n",
        "    sdg5_graph.add_node(id, name = name)\n",
        "\n",
        "  for i in range(len(names)):\n",
        "    for j in range(i+1, len(names)):\n",
        "      sdg5_graph.add_edge(ids[i], ids[j])\n",
        "\n",
        "sdg5_nodes = sdg5_graph.number_of_nodes()\n",
        "sdg5_edges = sdg5_graph.number_of_edges()"
      ],
      "metadata": {
        "id": "8u2iWRIcU-Fy"
      },
      "execution_count": null,
      "outputs": []
    },
    {
      "cell_type": "code",
      "source": [
        "sdg13_graph = nx.Graph()\n",
        "for index, row in sdg13.iterrows():\n",
        "  names = row[\"Authors\"].split(\";\")\n",
        "  ids = row[\"Author(s) ID\"].split(\";\")\n",
        "\n",
        "  for name, id in zip(names, ids):\n",
        "    sdg13_graph.add_node(id, name = name)\n",
        "\n",
        "  for i in range(len(names)):\n",
        "    for j in range(i+1, len(names)):\n",
        "      sdg13_graph.add_edge(ids[i], ids[j])\n",
        "\n",
        "sdg13_nodes = sdg13_graph.number_of_nodes()\n",
        "sdg13_edges = sdg13_graph.number_of_edges()"
      ],
      "metadata": {
        "id": "8xvfpn2ma0Tn"
      },
      "execution_count": null,
      "outputs": []
    },
    {
      "cell_type": "code",
      "source": [
        "sdg14_graph = nx.Graph()\n",
        "for index, row in sdg14.iterrows():\n",
        "  names = row[\"Authors\"].split(\";\")\n",
        "  ids = row[\"Author(s) ID\"].split(\";\")\n",
        "\n",
        "  for name, id in zip(names, ids):\n",
        "    sdg14_graph.add_node(id, name = name)\n",
        "\n",
        "  for i in range(len(names)):\n",
        "    for j in range(i+1, len(names)):\n",
        "      sdg14_graph.add_edge(ids[i], ids[j])\n",
        "\n",
        "sdg14_nodes = sdg14_graph.number_of_nodes()\n",
        "sdg14_edges = sdg14_graph.number_of_edges()"
      ],
      "metadata": {
        "id": "0o2Wi_iRbJ7N"
      },
      "execution_count": null,
      "outputs": []
    },
    {
      "cell_type": "code",
      "source": [
        "sdg15_graph = nx.Graph()\n",
        "for index, row in sdg15.iterrows():\n",
        "  names = row[\"Authors\"].split(\";\")\n",
        "  ids = row[\"Author(s) ID\"].split(\";\")\n",
        "\n",
        "  for name, id in zip(names, ids):\n",
        "    sdg15_graph.add_node(id, name = name)\n",
        "\n",
        "  for i in range(len(names)):\n",
        "    for j in range(i+1, len(names)):\n",
        "      sdg15_graph.add_edge(ids[i], ids[j])\n",
        "\n",
        "sdg15_nodes = sdg15_graph.number_of_nodes()\n",
        "sdg15_edges = sdg15_graph.number_of_edges()"
      ],
      "metadata": {
        "id": "jBbbkjADbO00"
      },
      "execution_count": null,
      "outputs": []
    },
    {
      "cell_type": "code",
      "source": [
        "sdg5_dac = nx.degree_assortativity_coefficient(sdg5_graph)\n",
        "sdg13_dac = nx.degree_assortativity_coefficient(sdg13_graph)\n",
        "sdg14_dac = nx.degree_assortativity_coefficient(sdg14_graph)\n",
        "sdg15_dac = nx.degree_assortativity_coefficient(sdg15_graph)\n",
        "print(sdg5_dac)\n",
        "print(sdg13_dac)\n",
        "print(sdg14_dac)\n",
        "print(sdg15_dac)"
      ],
      "metadata": {
        "id": "aKfx1suDbXFq"
      },
      "execution_count": null,
      "outputs": []
    },
    {
      "cell_type": "code",
      "source": [
        "sdg5_ncc = nx.number_connected_components(sdg5_graph)\n",
        "sdg13_ncc = nx.number_connected_components(sdg13_graph)\n",
        "sdg14_ncc = nx.number_connected_components(sdg14_graph)\n",
        "sdg15_ncc = nx.number_connected_components(sdg15_graph)\n",
        "print(sdg5_ncc)\n",
        "print(sdg13_ncc)\n",
        "print(sdg14_ncc)\n",
        "print(sdg15_ncc)"
      ],
      "metadata": {
        "id": "itW8GiS4bbVU"
      },
      "execution_count": null,
      "outputs": []
    },
    {
      "cell_type": "code",
      "source": [
        "sdg5_gcc = 0\n",
        "for i in nx.connected_components(sdg5_graph):\n",
        "  if len(i) > sdg5_gcc:\n",
        "    sdg5_gcc = len(i)\n",
        "\n",
        "sdg13_gcc = 0\n",
        "for i in nx.connected_components(sdg13_graph):\n",
        "  if len(i) > sdg13_gcc:\n",
        "    sdg13_gcc = len(i)\n",
        "\n",
        "sdg14_gcc = 0\n",
        "for i in nx.connected_components(sdg14_graph):\n",
        "  if len(i) > sdg14_gcc:\n",
        "    sdg14_gcc = len(i)\n",
        "\n",
        "sdg15_gcc = 0\n",
        "for i in nx.connected_components(sdg15_graph):\n",
        "  if len(i) > sdg15_gcc:\n",
        "    sdg15_gcc = len(i)"
      ],
      "metadata": {
        "id": "XfzeLtplbhrg"
      },
      "execution_count": null,
      "outputs": []
    },
    {
      "cell_type": "code",
      "source": [
        "sdg5_acc = nx.average_clustering(sdg5_graph)\n",
        "sdg13_acc = nx.average_clustering(sdg13_graph)\n",
        "sdg14_acc = nx.average_clustering(sdg14_graph)\n",
        "sdg15_acc = nx.average_clustering(sdg15_graph)\n",
        "print(sdg5_acc)\n",
        "print(sdg13_acc)\n",
        "print(sdg14_acc)\n",
        "print(sdg15_acc)"
      ],
      "metadata": {
        "id": "b0IkZpwWbiUN"
      },
      "execution_count": null,
      "outputs": []
    },
    {
      "cell_type": "code",
      "source": [
        "table_row_label = [\"ODS 5\", \"ODS 13\", \"ODS 14\", \"ODS 15\"]\n",
        "table_column_label = [\"Qtd. vertices\", \"Qtd. arestas\", \"Degree assortativity coef.\", \"Qtd. comp. conectados\", \"Tam. GCC\", \"Coef. de clustering\"]\n",
        "table_text = [[sdg5_nodes, sdg5_edges, sdg5_dac, sdg5_ncc, sdg5_gcc, sdg5_acc],\n",
        "              [sdg13_nodes, sdg13_edges, sdg13_dac, sdg13_ncc,sdg13_gcc, sdg13_acc],\n",
        "              [sdg14_nodes, sdg14_edges, sdg14_dac, sdg14_ncc, sdg14_gcc, sdg14_acc],\n",
        "              [sdg15_nodes, sdg15_edges, sdg15_dac, sdg15_ncc, sdg15_gcc, sdg15_acc]]\n",
        "fig, requisito3_table = plt.subplots()\n",
        "requisito3_table.axis('off')\n",
        "requisito3_table.axis('tight')\n",
        "requisito3_table = plt.table(cellText = table_text, rowLabels = table_row_label, colLabels = table_column_label)\n",
        "requisito3_table.set_fontsize(20)\n",
        "requisito3_table.scale(2, 2)\n",
        "plt.savefig(\"requisito3.png\")\n",
        "plt.show()"
      ],
      "metadata": {
        "id": "VM6zzjjwbj7E"
      },
      "execution_count": null,
      "outputs": []
    }
  ]
}